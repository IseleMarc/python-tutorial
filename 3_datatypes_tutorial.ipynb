{
 "cells": [
  {
   "cell_type": "markdown",
   "metadata": {},
   "source": [
    "# 3. Data types\n",
    "\n",
    "In this file we will have a look at the different data types in python."
   ]
  },
  {
   "cell_type": "markdown",
   "metadata": {},
   "source": [
    "## 3.1. Single data types\n",
    "The normal data types are booleans (bool), integers (int), floating point numbers (float) and strings (str).<br>\n",
    "Bools describe a True or False state and can be created by comparisons (or just defined by hand) and used for e.g. if-statements.<br>\n",
    "Ints and floats describe numbers with ints representing whole numbers and floats representing decimal numbers.<br>\n",
    "Strings represent text.<br>\n",
    "Data types are defined implicitly. Ints are just whole numbers, floats are decimal numbers and strings have to be in \"double quotes\" or 'single quotes'."
   ]
  },
  {
   "cell_type": "markdown",
   "metadata": {},
   "source": [
    "Bools are special conditions that are mostly used as coniditions for if-statements and loops.\n",
    "A bool can be created by e.g. comparing the values of two numbers, two strings or two lists.\n",
    "Comparison operators are:\n",
    "* ==: equal to.\n",
    "* !=: unequal to.\n",
    "* \\> or <: greater than or less than.\n",
    "* \\>= or <=: greater than or equal to or less than or equal to."
   ]
  },
  {
   "cell_type": "code",
   "execution_count": null,
   "metadata": {},
   "outputs": [],
   "source": [
    "a = 5\n",
    "print((5.0 == a))"
   ]
  },
  {
   "cell_type": "markdown",
   "metadata": {},
   "source": [
    "Comparisons can be concatenated when e.g. needing to check if two statements are *True*. Logical operators are:\n",
    "* and: both statements need to be *True*.\n",
    "* or: only one statement needs to be *True*.\n",
    "* not: turns a *True* into a *False* and vice versa.\n",
    "If you want only one statement to be *True* (as in 'exclusive or' / 'xor'), you can use *!=* again. (If one statement is *True* and one is *False*, they will be unequal)"
   ]
  },
  {
   "cell_type": "code",
   "execution_count": null,
   "metadata": {},
   "outputs": [],
   "source": [
    "a = 5\n",
    "b = 6\n",
    "c = 5\n",
    "print((a == b) or (a == c))\n",
    "print((a == b) != (a == c))"
   ]
  },
  {
   "cell_type": "markdown",
   "metadata": {},
   "source": [
    "An *if*-statement executes code only when the bool behind it is *True*.<br>\n",
    "You can now define what will happen otherwise with the *else*-statement.<br>\n",
    "If you however also want to bring in another condition the *elif*-statement can be used an indefinite amount of times."
   ]
  },
  {
   "cell_type": "code",
   "execution_count": null,
   "metadata": {},
   "outputs": [],
   "source": [
    "a = 5\n",
    "b = 6\n",
    "c = 5.0\n",
    "if (a == b):\n",
    "    print('But 5 ain\\'t 6 ಠ_ಠ')\n",
    "elif a == c:\n",
    "    print('Aye, that\\'s right')\n",
    "else:\n",
    "    print('How did you get here?')"
   ]
  },
  {
   "cell_type": "markdown",
   "metadata": {},
   "source": [
    "## 3.2. Data containers\n",
    "Python has several data containers, namely tuples, lists and dictionaries.<br>\n",
    "The first and easiest are tuples. These store values and are immutable (which means their length can't be changed).<br>\n",
    "Lists are basically the same as tuples but are mutable. Lists are more useful if you do not know how long your container is meant to be at implementation."
   ]
  },
  {
   "cell_type": "code",
   "execution_count": null,
   "metadata": {},
   "outputs": [],
   "source": [
    "tuple1 = (2, 3, 4)\n",
    "list1 = [4, 5, 6]\n",
    "list1.append(3)\n",
    "print(tuple1)\n",
    "print(list1)"
   ]
  },
  {
   "cell_type": "code",
   "execution_count": null,
   "metadata": {},
   "outputs": [],
   "source": [
    "tuple1.append(7)"
   ]
  },
  {
   "cell_type": "markdown",
   "metadata": {},
   "source": [
    "As you can see:\n",
    "Tuples are implemented with parentheses (), lists with square brackets []. I was able to append a value to the list with the append function but when trying this with the tuple, the program throws an error (remember: tuples are immutable).<br>\n",
    "I for myself mostly use lists for data analysis because I can easily change their length.\n",
    "\n",
    "I consciously didn't chose the names \"tuple\" and \"list\" as variable names because list and tuple are predefined names by Python. I think you can overwrite them but I would just not do that because it's just bad practice. In jupyter-notebook you can see predefined names/function names when the name changes color. See below:"
   ]
  },
  {
   "cell_type": "code",
   "execution_count": null,
   "metadata": {},
   "outputs": [],
   "source": [
    "list"
   ]
  },
  {
   "cell_type": "markdown",
   "metadata": {},
   "source": [
    "If you want to access a certain element from a tuple/list, you can do it by adding an index behind the variable name (indexing starts at 0):"
   ]
  },
  {
   "cell_type": "code",
   "execution_count": null,
   "metadata": {},
   "outputs": [],
   "source": [
    "list2 = [4, 5, 6, 7, 5, 8, 3, 9]\n",
    "print(list2[3])"
   ]
  },
  {
   "cell_type": "markdown",
   "metadata": {},
   "source": [
    "Alternatively, you can also specify ranges to access. When specifying by typing [i:j] the first printed element will be the i-th element (starting from 0) and the last will be the (j-1)-th element. So the range will print exactly j-i elements.<br>\n",
    "You can also increment the range in indeces != 1 by typing [i:j:k]. The range will the increment by k elements each time.<br>\n",
    "If i or j are not specified, the range will start from the first or end at the last element, respectively.<br>\n",
    "You can also access the container in the reverse direction by giving negative indeces where -1 is the first index (as opposed to 0)."
   ]
  },
  {
   "cell_type": "code",
   "execution_count": null,
   "metadata": {},
   "outputs": [],
   "source": [
    "print(list2[1:2])\n",
    "print(list2[0:6:2])\n",
    "print(list2[5::])\n",
    "print(list2[-1:-4:-1])"
   ]
  },
  {
   "cell_type": "markdown",
   "metadata": {},
   "source": [
    "If you want to access every item of a container in succession, you can do so in a for-loop. The syntax is:<br>\n",
    "for *element* in *container*:<br>\n",
    "\\# do something with *element*."
   ]
  },
  {
   "cell_type": "code",
   "execution_count": null,
   "metadata": {},
   "outputs": [],
   "source": [
    "import numpy as np\n",
    "otherlist = np.arange(1, 2, 0.2)\n",
    "\n",
    "for element in otherlist:\n",
    "    print(element)"
   ]
  },
  {
   "cell_type": "markdown",
   "metadata": {},
   "source": [
    "Dictionaries work with key-value pairs. This means that the index of every item is not an integer from 0 to len(list)-1, but rather something you define yourself.\n",
    "When I struggle with dictionaries in coding (which is basically every time), I normally come back to this [video](https://www.youtube.com/watch?v=daefaLgNkw0&) from Corey Schafer.\n",
    "Dictionaries are written with curly braces {} and every element consists of a key-value pair separated by a colon."
   ]
  },
  {
   "cell_type": "code",
   "execution_count": null,
   "metadata": {},
   "outputs": [],
   "source": [
    "dict1 = {'a': 5, 5.0: 2}\n",
    "print(dict1[5.0])\n",
    "print(dict1['a'])"
   ]
  },
  {
   "cell_type": "markdown",
   "metadata": {},
   "source": [
    "The key can be chosen at random and can have any data type. You can also append to a dictionary (differently than with a list) and your value can e.g. also be a list."
   ]
  },
  {
   "cell_type": "code",
   "execution_count": null,
   "metadata": {},
   "outputs": [],
   "source": [
    "dict1['a'] = 3 # Change a\n",
    "dict1['newelement'] = [5, 2, 1] # Append new key-value pair\n",
    "print(dict1)"
   ]
  },
  {
   "cell_type": "markdown",
   "metadata": {},
   "source": [
    "Iterating over dictionaries also works a bit different from normal lists:"
   ]
  },
  {
   "cell_type": "code",
   "execution_count": null,
   "metadata": {},
   "outputs": [],
   "source": [
    "for key, value in dict1.items():\n",
    "    print(key, value)"
   ]
  }
 ],
 "metadata": {
  "kernelspec": {
   "display_name": "Python 3",
   "language": "python",
   "name": "python3"
  },
  "language_info": {
   "codemirror_mode": {
    "name": "ipython",
    "version": 3
   },
   "file_extension": ".py",
   "mimetype": "text/x-python",
   "name": "python",
   "nbconvert_exporter": "python",
   "pygments_lexer": "ipython3",
   "version": "3.8.5"
  }
 },
 "nbformat": 4,
 "nbformat_minor": 2
}
