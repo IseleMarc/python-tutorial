{
 "cells": [
  {
   "cell_type": "markdown",
   "metadata": {},
   "source": [
    "# 2. Calculations\n",
    "\n",
    "Here, we will have a look at normal math operations and some basic functions."
   ]
  },
  {
   "cell_type": "code",
   "execution_count": null,
   "metadata": {},
   "outputs": [],
   "source": [
    "a = 5\n",
    "b = 2\n",
    "\n",
    "print(a + b)\n",
    "print(a - b)\n",
    "print(a * b)\n",
    "print(a / b)\n",
    "print(a // b)"
   ]
  },
  {
   "cell_type": "markdown",
   "metadata": {},
   "source": [
    "You can see that I didn't just write \"a + b\" but instead I wrote it inside the print function. This is because the jupyter-notebook output only writes the last output of one cell.\n",
    "The difference between the \"/\" and the \"//\" operator is that the single slash automatically calculates a floating point operation. (see next tutorial)"
   ]
  },
  {
   "cell_type": "code",
   "execution_count": null,
   "metadata": {},
   "outputs": [],
   "source": [
    "a = 5\n",
    "b = 2\n",
    "\n",
    "print(a ** b)\n",
    "print(a % b)\n",
    "print(-a)\n",
    "print(abs(-a))"
   ]
  },
  {
   "cell_type": "markdown",
   "metadata": {},
   "source": [
    "For less standard math operations (or constants) one has to import modules, e.g. the [math module](https://docs.python.org/3/library/math.html).\n",
    "When importing modules one has to make sure that the module is imported before it is needed.\n",
    "\n",
    "If one needs e.g. the value of pi, one has to import the module math (pi is also in numpy and scipy btw) first, and can then use it via \"math.pi\", meaning that from the module \"math\", the member \"pi\" is to be used."
   ]
  },
  {
   "cell_type": "code",
   "execution_count": null,
   "metadata": {},
   "outputs": [],
   "source": [
    "import math\n",
    "\n",
    "math.pi"
   ]
  },
  {
   "cell_type": "markdown",
   "metadata": {},
   "source": [
    "The math module has of course more than only the value for pi, such as trigonometric functions, exponential functions, ...\n",
    "\n",
    "Different ways to import a module are:\n",
    "* to import the module as an abbreviation (often used for numpy, abbreviated to np)\n",
    "* to import only certain members from a module (e.g. only pi)"
   ]
  },
  {
   "cell_type": "code",
   "execution_count": null,
   "metadata": {},
   "outputs": [],
   "source": [
    "import math as m\n",
    "\n",
    "print(m.pi)"
   ]
  },
  {
   "cell_type": "code",
   "execution_count": null,
   "metadata": {},
   "outputs": [],
   "source": [
    "from math import pi\n",
    "\n",
    "print(pi)"
   ]
  }
 ],
 "metadata": {
  "kernelspec": {
   "display_name": "Python 3",
   "language": "python",
   "name": "python3"
  },
  "language_info": {
   "codemirror_mode": {
    "name": "ipython",
    "version": 3
   },
   "file_extension": ".py",
   "mimetype": "text/x-python",
   "name": "python",
   "nbconvert_exporter": "python",
   "pygments_lexer": "ipython3",
   "version": "3.8.5"
  }
 },
 "nbformat": 4,
 "nbformat_minor": 2
}
