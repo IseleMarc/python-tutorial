{
 "cells": [
  {
   "cell_type": "markdown",
   "metadata": {},
   "source": [
    "# File in-/output\n",
    "Now we will have a look at writing and reading files. For us to be able to read a file we of course need a file. So, the first thing we'll be having a look at will be writing files."
   ]
  },
  {
   "cell_type": "markdown",
   "metadata": {},
   "source": [
    "To write (or read) a file we will first have to open said file. We can open files in read ('r'), write ('w') or append ('a') mode. The only difference between writing and appending is that writing completely overwrites the file, while appending only appends to the end (similar to '>' and '>>' in bash).<br>\n",
    "Filenames have to be strings.<br>"
   ]
  },
  {
   "cell_type": "code",
   "execution_count": null,
   "metadata": {},
   "outputs": [],
   "source": [
    "output = open('writefile.txt', 'w') # Open the file writefile.txt\n",
    "output.write('Hi there') # Write text to the outputfile\n",
    "output.close() # Close the file after writing"
   ]
  },
  {
   "cell_type": "markdown",
   "metadata": {},
   "source": [
    "As you can see, opened files can be written to and need to be closed in the end.<br>\n",
    "*\\n* will automatically be replaced with a linebreak and *\\t* will be a tab."
   ]
  },
  {
   "cell_type": "code",
   "execution_count": null,
   "metadata": {},
   "outputs": [],
   "source": [
    "output = open('writefile.txt', 'a')\n",
    "output.write('\\nThis is the second line:\\t Have a tab.\\n')\n",
    "output.write('And why not include a third line')\n",
    "output.close()"
   ]
  },
  {
   "cell_type": "markdown",
   "metadata": {},
   "source": [
    "Now that we have a first file, we can have a look at it. The *open()* function opens a file per default in read mode, so *open(filename)* is equivalent to *open(filename, 'r')*."
   ]
  },
  {
   "cell_type": "code",
   "execution_count": null,
   "metadata": {},
   "outputs": [],
   "source": [
    "filename = 'writefile.txt'\n",
    "\n",
    "inputfile = open(filename)\n",
    "filecontent = inputfile.read()\n",
    "print(filecontent)\n",
    "inputfile.close()"
   ]
  },
  {
   "cell_type": "markdown",
   "metadata": {},
   "source": [
    "So as to not have to close an opened file after having everything written/read, one can use the with statement.<br>\n",
    "It can also be useful to read the file line by line if one wants to iterate over lines for example."
   ]
  },
  {
   "cell_type": "code",
   "execution_count": null,
   "metadata": {},
   "outputs": [],
   "source": [
    "with open(filename) as inputfile:\n",
    "    line = inputfile.readline()\n",
    "    print(line)\n",
    "    line = inputfile.readline()\n",
    "    print(line)\n",
    "    line = inputfile.readline().split()\n",
    "    print(line)\n",
    "    line = inputfile.readline().split()\n",
    "    print(line)"
   ]
  },
  {
   "cell_type": "markdown",
   "metadata": {},
   "source": [
    "As you can see I went through the whole file line by line and in the end I also split the lines into a list. The split function is a function that can be applied on strings and by default splits at any whitespace (i.e. spaces, tabs). You can however also specify at what separator you want the string to be split."
   ]
  },
  {
   "cell_type": "code",
   "execution_count": null,
   "metadata": {},
   "outputs": [],
   "source": [
    "string = 'i,j,k;l,'\n",
    "print(string.split())\n",
    "print(string.split(','))"
   ]
  },
  {
   "cell_type": "markdown",
   "metadata": {},
   "source": [
    "When you read through the whole file, as you can see above, the last output is an empty list (*[]*). So, when you want to iterate over a whole file and don't want to specify beforehand the amount of lines to iterate over, you can take this as a condition:"
   ]
  },
  {
   "cell_type": "code",
   "execution_count": null,
   "metadata": {},
   "outputs": [],
   "source": [
    "with open(filename) as inputfile:\n",
    "    line = inputfile.readline().split()\n",
    "    while line != []:\n",
    "        print(line)\n",
    "        line = inputfile.readline().split()"
   ]
  },
  {
   "cell_type": "markdown",
   "metadata": {},
   "source": [
    "Here, we have another form of a loop: a while-loop. A while-loop executes its code as long as the condition is *True*.<br>\n",
    "The condition in our case is that the list *line* is not empty, which will only happen at the end of the file. (An empty line will not yield an empty list, since a linebreak (\\n) is not empty.) This means that we will iterate over the whole file."
   ]
  }
 ],
 "metadata": {
  "kernelspec": {
   "display_name": "Python 3",
   "language": "python",
   "name": "python3"
  },
  "language_info": {
   "codemirror_mode": {
    "name": "ipython",
    "version": 3
   },
   "file_extension": ".py",
   "mimetype": "text/x-python",
   "name": "python",
   "nbconvert_exporter": "python",
   "pygments_lexer": "ipython3",
   "version": "3.8.5"
  }
 },
 "nbformat": 4,
 "nbformat_minor": 2
}
