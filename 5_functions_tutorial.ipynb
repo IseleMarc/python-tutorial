{
 "cells": [
  {
   "cell_type": "markdown",
   "metadata": {},
   "source": [
    "# 5. Functions\n",
    "Here, we will have a short look at functions. Functions are a neat way to clean up your code and make it easier to overview the whole picture. You can also import functions from modules (as we have done before with the numpy.arange() function).<br>\n",
    "You can also write your own modules and import them yourself. You can do this in one of two ways:\n",
    "* Either you have said own module inside the folder, where you execute the script/import-command/whatever\n",
    "* or: you can have your modules stored in a specific folder. Python of course will not know where to look for this folder at first. The *sys* module has a list *path* (execute *import sys* and *print(sys.path)*) in which all paths are stored. You can alter this list:\n",
    "    * with the *append* function: *sys.path.append(/path/to/modules/)*.\n",
    "    * in a more permanent way by changing the *PYTHONPATH* [environment variable](https://phoenixts.com/blog/environment-variables-in-linux/) in your *.bashrc* file in your homefolder (*~/.bashrc*) with the command: *export PYTHONPATH='/path/to/modules'*. Changing things in the *.bashrc* can be really useful, read up here ([german link](https://wiki.ubuntuusers.de/Bash/bashrc/))"
   ]
  },
  {
   "cell_type": "markdown",
   "metadata": {},
   "source": [
    "But this is more of an advanced thing, so for now we will keep to defining a function in the same script/file:"
   ]
  },
  {
   "cell_type": "code",
   "execution_count": null,
   "metadata": {},
   "outputs": [],
   "source": [
    "def read_input(file):\n",
    "    \"\"\"A function to read a file.\n",
    "    \n",
    "    Args:\n",
    "        file (str): Name of the file.\n",
    "    Returns:\n",
    "        x-vals (list): List x-values.\n",
    "        y-vals (list): List y-values.\"\"\"\n",
    "    \n",
    "    x = []\n",
    "    y = []\n",
    "    \n",
    "    with open(file) as content_file:\n",
    "        line = content_file.readline().split()\n",
    "        while '#' in line:\n",
    "            line = content_file.readline().split()\n",
    "        while line != []:\n",
    "            x.append(float(line[0]))\n",
    "            y.append(float(line[1]))\n",
    "            line = content_file.readline().split()\n",
    "            \n",
    "    return x, y"
   ]
  },
  {
   "cell_type": "markdown",
   "metadata": {},
   "source": [
    "This function takes a simple inputfile *file*, reads its input of two columns and *return*s the first and second column as a tuple.<br>\n",
    "The string in three double-quotes is a so-called doc-string. Doc-strings can be called by pushing **Shift+Tab** or **Shift+Tab+Tab** while inside the parentheses of the function. Try it out: Go into the next cell, move the cursor between the two parentheses and push the shortcut(s)."
   ]
  },
  {
   "cell_type": "code",
   "execution_count": null,
   "metadata": {},
   "outputs": [],
   "source": [
    "read_input()"
   ]
  },
  {
   "cell_type": "markdown",
   "metadata": {},
   "source": [
    "x and y are two lists, that will get longer (by *append*ing values) as the function progresses reading over the file.<br>\n",
    "The first *while*-loop iterates over all lines with a #. As soon as the first line without a # is reached, the x- and y-values are written to their lists.<br>\n",
    "Beware: You have to adapt this kind of code to the kind of inputfile you're trying to read. If there were to be lines with #s after the first lines of numbers, they would be put into x and y, too. Or if there were lines with strings in them and no # or empty lines, they would fill the lists, as well."
   ]
  },
  {
   "cell_type": "markdown",
   "metadata": {},
   "source": [
    "Now let's first write a file that our function can read (with some values)"
   ]
  },
  {
   "cell_type": "code",
   "execution_count": null,
   "metadata": {},
   "outputs": [],
   "source": [
    "import numpy as np\n",
    "x_write = np.arange(-10, 11, 0.1)\n",
    "y_write = x_write**2\n",
    "\n",
    "with open('functions.txt', 'w') as output:\n",
    "    output.write('# x-values\\ty-values\\n')\n",
    "    for x_i, y_i in zip(x_write, y_write):\n",
    "        output.write('{}\\t{}\\n'.format(x_i, y_i))"
   ]
  },
  {
   "cell_type": "markdown",
   "metadata": {},
   "source": [
    "The *zip*-function creates an iterable object of which every element consists of a tuple. These tuples consist of the elements of the containers inside the parentheses. *zip* will only consist of as many elements as the lowest amount of elements of the containers."
   ]
  },
  {
   "cell_type": "code",
   "execution_count": null,
   "metadata": {},
   "outputs": [],
   "source": [
    "for i in zip(x_write, y_write):\n",
    "    print(i)"
   ]
  },
  {
   "cell_type": "markdown",
   "metadata": {},
   "source": [
    "Tuples can be unpacked by just writing:\n",
    "element1, element2, ... = tuple"
   ]
  },
  {
   "cell_type": "code",
   "execution_count": null,
   "metadata": {},
   "outputs": [],
   "source": [
    "tuple1 = (2, 3)\n",
    "a, b = tuple1\n",
    "print(b)"
   ]
  },
  {
   "cell_type": "markdown",
   "metadata": {},
   "source": [
    "Now let's read the file with the function we created earlier:"
   ]
  },
  {
   "cell_type": "code",
   "execution_count": null,
   "metadata": {},
   "outputs": [],
   "source": [
    "x, y = read_input('functions.txt')"
   ]
  },
  {
   "cell_type": "code",
   "execution_count": null,
   "metadata": {},
   "outputs": [],
   "source": [
    "print(x, y)"
   ]
  },
  {
   "cell_type": "markdown",
   "metadata": {},
   "source": [
    "Now, as you can see, the output does not look to nice, but that's the way it looks in the .txt file. (Try converting 0.1 into binary, that's basically the reason why, since we're incrementing in 0.1 steps for the x-value generation.)<br>\n",
    "We can avoid this by either rounding the numbers or if we want to be uniform, we can also modify our output to e.g. always display two decimal places:"
   ]
  },
  {
   "cell_type": "code",
   "execution_count": null,
   "metadata": {
    "scrolled": true
   },
   "outputs": [],
   "source": [
    "import numpy as np\n",
    "x_write = np.arange(-10, 11, 0.1)\n",
    "y_write = x_write**2\n",
    "\n",
    "for x_i, y_i in zip(x_write, y_write):\n",
    "    print('{:.2f}\\t{:.2f}'.format(x_i, y_i))"
   ]
  },
  {
   "cell_type": "markdown",
   "metadata": {},
   "source": [
    "The [format function](https://docs.python.org/3/library/string.html#custom-string-formatting) has a lot more uses, as well. And we could, of course, write this into our output file by substituting the *print* command with the *filename.write* command and adding a newline each iteration."
   ]
  },
  {
   "cell_type": "code",
   "execution_count": null,
   "metadata": {},
   "outputs": [],
   "source": [
    "a = 13.4545\n",
    "print(f'Only f-string: {a}')\n",
    "print(f'f-string with format specifier: {a:10.2f}')"
   ]
  },
  {
   "cell_type": "markdown",
   "metadata": {},
   "source": [
    "f-strings are a newer addition from python 3.6 and higher and are a very quick way to print variables."
   ]
  }
 ],
 "metadata": {
  "kernelspec": {
   "display_name": "Python 3",
   "language": "python",
   "name": "python3"
  },
  "language_info": {
   "codemirror_mode": {
    "name": "ipython",
    "version": 3
   },
   "file_extension": ".py",
   "mimetype": "text/x-python",
   "name": "python",
   "nbconvert_exporter": "python",
   "pygments_lexer": "ipython3",
   "version": "3.8.5"
  }
 },
 "nbformat": 4,
 "nbformat_minor": 2
}
