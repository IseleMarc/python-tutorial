{
 "cells": [
  {
   "cell_type": "markdown",
   "metadata": {},
   "source": [
    "# Short Intro to Python\n",
    "by Marc"
   ]
  },
  {
   "attachments": {
    "Meme_Man_smol.png": {
     "image/png": "[encoded data removed]"
    }
   },
   "cell_type": "markdown",
   "metadata": {},
   "source": [
    "![Meme_Man_smol.png](attachment:Meme_Man_smol.png)"
   ]
  },
  {
   "cell_type": "markdown",
   "metadata": {},
   "source": [
    "# 1. Introduction to jupyter notebook\n",
    "\n",
    "First of all we will want to have a look at this environment.<br>\n",
    "The jupyter-notebook is an iPython notebook, in which there are cells you can execute and which has memory across all cells.<br>\n",
    "The good thing is that you can very easily execute only single cells which can of course be very useful for code development and looking at the produced data.<br>\n",
    "Below this line is a normal cell. In this cell you can change the input you want to produce and each cell has an output below it (which changes depending on the input).<br>"
   ]
  },
  {
   "cell_type": "markdown",
   "metadata": {},
   "source": [
    "Notice the lack of a semi-colon at the end of each line.<br>\n",
    "Python is a whitespace-sensitive language meaning that loops need to be indented to the correct depth (which most IDEs (integrated developer environments) do on their own anyway) or the compiler won't be able to know which loop the code belongs to."
   ]
  },
  {
   "cell_type": "code",
   "execution_count": null,
   "metadata": {},
   "outputs": [],
   "source": [
    "y = 0\n",
    "y"
   ]
  },
  {
   "cell_type": "markdown",
   "metadata": {},
   "source": [
    "By pressing the 'Run' button at the top while in an input cell you can execute said cell.<br>\n",
    "Alternatively you can use the shortcut for it: Ctrl+Enter<br>\n",
    "There are two modes: Edit mode (green cell outline) and command mode (blue cell outline). In edit mode you can edit the cell text like in normal text editors (in command mode press Enter to enter edit mode), in command mode you can use more commands (press Exit to enter command mode).\n",
    "A few useful shortcuts I use frequently are:\n",
    "* Ctrl+Enter: Execute current cell.\n",
    "* Shift+Enter: Execute current cell and go to the next cell.\n",
    "* a: Add a cell **a**bove the current cell. (command mode)\n",
    "* b: Add a cell **b**elow the current cell. (command mode)\n",
    "* c: Copy the current cell. (command mode)\n",
    "* v: Paste copied cell below current cell. (command mode)\n",
    "* Shift+v: Paste copied cell above current cell. (command mode)\n",
    "* p: Show all commands.\n",
    "* Ctrl+Shift+dash: Split cell at cursor.\n",
    "* Shift+M: Join selected (in command mode with Shift) cells.\n",
    "* dd: Delete current cell. (command mode)\n",
    "* z: Undo deletion. (command mode)\n",
    "* j/k: Cell navigation like in vim. (command mode)"
   ]
  },
  {
   "cell_type": "markdown",
   "metadata": {},
   "source": [
    "This tutorial is going to be written in Python 3.x which has minor changes to the previous version 2.7.\n",
    "A few changes on top of my head:\n",
    "* The print function works differently.\n",
    "* Python 3.x utilizes [symmetrisches Runden](https://de.wikipedia.org/wiki/Rundung#Symmetrisches_Runden) while version 2.7 uses the \"normal\" [kaufmännisches Runden](https://de.wikipedia.org/wiki/Rundung#Kaufm%C3%A4nnisches_Runden)."
   ]
  },
  {
   "cell_type": "markdown",
   "metadata": {},
   "source": [
    "Some other useful things:\n",
    "* It can always be useful to have a look at the [official python documentation](https://docs.python.org/3.7/).\n",
    "* I can hugely recommend looking at Corey Schafer's [Youtube Channel](https://www.youtube.com/user/schafer5/). His explanations are really in-depth, explain exactly what you need to know and don't require you to know anything beforehand (except other stuff he has videos on maybe). Also, he has a ton of videos on python (and maybe some other stuff).\n",
    "* In the \"Cell\" menu you can execute multiple cells in a row.\n",
    "* You can restart the notebook kernel and release all used memory. I recommend you do that from time to time to ensure that your code actually works when executing cell after cell.\n",
    "* You can save the notebook as an actual python script by pushing \"File > Download as > Python (.py)\"\n",
    "* If you are a bit advanced, try to satisfy the [PEP 8 style guide](https://www.python.org/dev/peps/pep-0008/).\n",
    "* If you want there are also ways to individualize your notebook, but I don't remember how ¯\\\\_(ツ)_/¯"
   ]
  }
 ],
 "metadata": {
  "kernelspec": {
   "display_name": "Python 3",
   "language": "python",
   "name": "python3"
  },
  "language_info": {
   "codemirror_mode": {
    "name": "ipython",
    "version": 3
   },
   "file_extension": ".py",
   "mimetype": "text/x-python",
   "name": "python",
   "nbconvert_exporter": "python",
   "pygments_lexer": "ipython3",
   "version": "3.8.5"
  }
 },
 "nbformat": 4,
 "nbformat_minor": 2
}
